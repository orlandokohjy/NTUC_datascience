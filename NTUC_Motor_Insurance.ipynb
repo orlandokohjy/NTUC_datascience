{
  "nbformat": 4,
  "nbformat_minor": 0,
  "metadata": {
    "colab": {
      "name": "NTUC - Motor Insurance.ipynb",
      "provenance": [],
      "collapsed_sections": [],
      "authorship_tag": "ABX9TyNwfBq8Brwh6bnXJniOCPCY",
      "include_colab_link": true
    },
    "kernelspec": {
      "name": "python3",
      "display_name": "Python 3"
    },
    "language_info": {
      "name": "python"
    }
  },
  "cells": [
    {
      "cell_type": "markdown",
      "metadata": {
        "id": "view-in-github",
        "colab_type": "text"
      },
      "source": [
        "<a href=\"https://colab.research.google.com/github/orlandokohjy/NTUC_datascience/blob/main/NTUC_Motor_Insurance.ipynb\" target=\"_parent\"><img src=\"https://colab.research.google.com/assets/colab-badge.svg\" alt=\"Open In Colab\"/></a>"
      ]
    },
    {
      "cell_type": "markdown",
      "metadata": {
        "id": "OKSfVers3vOq"
      },
      "source": [
        "# Machine learning model prediction on motor insurance renewal"
      ]
    },
    {
      "cell_type": "code",
      "metadata": {
        "id": "0xP_pMkYotzO",
        "colab": {
          "base_uri": "https://localhost:8080/"
        },
        "outputId": "84ab52f9-e539-4d25-bb05-200f88eef131"
      },
      "source": [
        "!ls"
      ],
      "execution_count": 3,
      "outputs": [
        {
          "output_type": "stream",
          "name": "stdout",
          "text": [
            "sample_data\n"
          ]
        }
      ]
    },
    {
      "cell_type": "code",
      "metadata": {
        "colab": {
          "base_uri": "https://localhost:8080/"
        },
        "id": "sMpRP9zMrjXV",
        "outputId": "772ba899-f1ce-4e01-fd14-a9ede059d398"
      },
      "source": [
        "from google.colab import drive\n",
        "drive.mount('/gdrive')"
      ],
      "execution_count": 4,
      "outputs": [
        {
          "output_type": "stream",
          "name": "stdout",
          "text": [
            "Mounted at /gdrive\n"
          ]
        }
      ]
    },
    {
      "cell_type": "code",
      "metadata": {
        "colab": {
          "base_uri": "https://localhost:8080/"
        },
        "id": "K3suIacKsGRC",
        "outputId": "c4b10150-9129-47c1-b8fc-cc58cb677e79"
      },
      "source": [
        "%cd /gdrive"
      ],
      "execution_count": 5,
      "outputs": [
        {
          "output_type": "stream",
          "name": "stdout",
          "text": [
            "/gdrive\n"
          ]
        }
      ]
    },
    {
      "cell_type": "code",
      "metadata": {
        "id": "Sax1ZLyNsKdv"
      },
      "source": [
        "# Standard import\n",
        "import os as os\n",
        "import pandas as pd\n",
        "import numpy as np\n",
        "\n",
        "df_test = pd.read_csv('/gdrive/Othercomputers/My MacBook Pro/KJY/Data Science/DSCaseStudy/test.csv')\n",
        "df_train = pd.read_csv('/gdrive/Othercomputers/My MacBook Pro/KJY/Data Science/DSCaseStudy/train.csv')"
      ],
      "execution_count": 16,
      "outputs": []
    },
    {
      "cell_type": "code",
      "metadata": {
        "colab": {
          "base_uri": "https://localhost:8080/",
          "height": 419
        },
        "id": "EGbXQMYctwc3",
        "outputId": "ec1aeda5-b98f-4fbf-8f67-c40059b396c3"
      },
      "source": [
        "df_train"
      ],
      "execution_count": 17,
      "outputs": [
        {
          "output_type": "execute_result",
          "data": {
            "text/html": [
              "<div>\n",
              "<style scoped>\n",
              "    .dataframe tbody tr th:only-of-type {\n",
              "        vertical-align: middle;\n",
              "    }\n",
              "\n",
              "    .dataframe tbody tr th {\n",
              "        vertical-align: top;\n",
              "    }\n",
              "\n",
              "    .dataframe thead th {\n",
              "        text-align: right;\n",
              "    }\n",
              "</style>\n",
              "<table border=\"1\" class=\"dataframe\">\n",
              "  <thead>\n",
              "    <tr style=\"text-align: right;\">\n",
              "      <th></th>\n",
              "      <th>cust_id</th>\n",
              "      <th>gender</th>\n",
              "      <th>age</th>\n",
              "      <th>driving_license</th>\n",
              "      <th>region_code</th>\n",
              "      <th>previously_insured</th>\n",
              "      <th>vehicle_age</th>\n",
              "      <th>vehicle_damage</th>\n",
              "      <th>annual_premium</th>\n",
              "      <th>policy_sales_channel</th>\n",
              "      <th>days_since_insured</th>\n",
              "      <th>response</th>\n",
              "    </tr>\n",
              "  </thead>\n",
              "  <tbody>\n",
              "    <tr>\n",
              "      <th>0</th>\n",
              "      <td>167647</td>\n",
              "      <td>Male</td>\n",
              "      <td>22</td>\n",
              "      <td>1</td>\n",
              "      <td>7.0</td>\n",
              "      <td>1</td>\n",
              "      <td>&lt; 1 Year</td>\n",
              "      <td>No</td>\n",
              "      <td>52.6</td>\n",
              "      <td>152.0</td>\n",
              "      <td>16</td>\n",
              "      <td>0</td>\n",
              "    </tr>\n",
              "    <tr>\n",
              "      <th>1</th>\n",
              "      <td>17163</td>\n",
              "      <td>Male</td>\n",
              "      <td>42</td>\n",
              "      <td>1</td>\n",
              "      <td>28.0</td>\n",
              "      <td>0</td>\n",
              "      <td>1-2 Year</td>\n",
              "      <td>Yes</td>\n",
              "      <td>866.5</td>\n",
              "      <td>26.0</td>\n",
              "      <td>135</td>\n",
              "      <td>0</td>\n",
              "    </tr>\n",
              "    <tr>\n",
              "      <th>2</th>\n",
              "      <td>32023</td>\n",
              "      <td>Female</td>\n",
              "      <td>66</td>\n",
              "      <td>1</td>\n",
              "      <td>33.0</td>\n",
              "      <td>0</td>\n",
              "      <td>1-2 Year</td>\n",
              "      <td>Yes</td>\n",
              "      <td>716.8</td>\n",
              "      <td>124.0</td>\n",
              "      <td>253</td>\n",
              "      <td>0</td>\n",
              "    </tr>\n",
              "    <tr>\n",
              "      <th>3</th>\n",
              "      <td>87447</td>\n",
              "      <td>Female</td>\n",
              "      <td>22</td>\n",
              "      <td>1</td>\n",
              "      <td>33.0</td>\n",
              "      <td>0</td>\n",
              "      <td>&lt; 1 Year</td>\n",
              "      <td>No</td>\n",
              "      <td>552.9</td>\n",
              "      <td>152.0</td>\n",
              "      <td>69</td>\n",
              "      <td>0</td>\n",
              "    </tr>\n",
              "    <tr>\n",
              "      <th>4</th>\n",
              "      <td>501933</td>\n",
              "      <td>Male</td>\n",
              "      <td>28</td>\n",
              "      <td>1</td>\n",
              "      <td>46.0</td>\n",
              "      <td>1</td>\n",
              "      <td>&lt; 1 Year</td>\n",
              "      <td>No</td>\n",
              "      <td>580.5</td>\n",
              "      <td>152.0</td>\n",
              "      <td>211</td>\n",
              "      <td>0</td>\n",
              "    </tr>\n",
              "    <tr>\n",
              "      <th>...</th>\n",
              "      <td>...</td>\n",
              "      <td>...</td>\n",
              "      <td>...</td>\n",
              "      <td>...</td>\n",
              "      <td>...</td>\n",
              "      <td>...</td>\n",
              "      <td>...</td>\n",
              "      <td>...</td>\n",
              "      <td>...</td>\n",
              "      <td>...</td>\n",
              "      <td>...</td>\n",
              "      <td>...</td>\n",
              "    </tr>\n",
              "    <tr>\n",
              "      <th>382149</th>\n",
              "      <td>164549</td>\n",
              "      <td>Male</td>\n",
              "      <td>24</td>\n",
              "      <td>1</td>\n",
              "      <td>15.0</td>\n",
              "      <td>0</td>\n",
              "      <td>&lt; 1 Year</td>\n",
              "      <td>Yes</td>\n",
              "      <td>478.8</td>\n",
              "      <td>152.0</td>\n",
              "      <td>105</td>\n",
              "      <td>0</td>\n",
              "    </tr>\n",
              "    <tr>\n",
              "      <th>382150</th>\n",
              "      <td>247064</td>\n",
              "      <td>Male</td>\n",
              "      <td>27</td>\n",
              "      <td>1</td>\n",
              "      <td>28.0</td>\n",
              "      <td>1</td>\n",
              "      <td>&lt; 1 Year</td>\n",
              "      <td>No</td>\n",
              "      <td>6727.9</td>\n",
              "      <td>152.0</td>\n",
              "      <td>144</td>\n",
              "      <td>0</td>\n",
              "    </tr>\n",
              "    <tr>\n",
              "      <th>382151</th>\n",
              "      <td>165293</td>\n",
              "      <td>Male</td>\n",
              "      <td>45</td>\n",
              "      <td>1</td>\n",
              "      <td>28.0</td>\n",
              "      <td>0</td>\n",
              "      <td>1-2 Year</td>\n",
              "      <td>Yes</td>\n",
              "      <td>808.9</td>\n",
              "      <td>26.0</td>\n",
              "      <td>187</td>\n",
              "      <td>0</td>\n",
              "    </tr>\n",
              "    <tr>\n",
              "      <th>382152</th>\n",
              "      <td>383241</td>\n",
              "      <td>Female</td>\n",
              "      <td>28</td>\n",
              "      <td>1</td>\n",
              "      <td>28.0</td>\n",
              "      <td>1</td>\n",
              "      <td>&lt; 1 Year</td>\n",
              "      <td>No</td>\n",
              "      <td>507.6</td>\n",
              "      <td>152.0</td>\n",
              "      <td>208</td>\n",
              "      <td>0</td>\n",
              "    </tr>\n",
              "    <tr>\n",
              "      <th>382153</th>\n",
              "      <td>401019</td>\n",
              "      <td>Female</td>\n",
              "      <td>29</td>\n",
              "      <td>1</td>\n",
              "      <td>18.0</td>\n",
              "      <td>1</td>\n",
              "      <td>&lt; 1 Year</td>\n",
              "      <td>No</td>\n",
              "      <td>607.9</td>\n",
              "      <td>152.0</td>\n",
              "      <td>104</td>\n",
              "      <td>0</td>\n",
              "    </tr>\n",
              "  </tbody>\n",
              "</table>\n",
              "<p>382154 rows × 12 columns</p>\n",
              "</div>"
            ],
            "text/plain": [
              "        cust_id  gender  ...  days_since_insured  response\n",
              "0        167647    Male  ...                  16         0\n",
              "1         17163    Male  ...                 135         0\n",
              "2         32023  Female  ...                 253         0\n",
              "3         87447  Female  ...                  69         0\n",
              "4        501933    Male  ...                 211         0\n",
              "...         ...     ...  ...                 ...       ...\n",
              "382149   164549    Male  ...                 105         0\n",
              "382150   247064    Male  ...                 144         0\n",
              "382151   165293    Male  ...                 187         0\n",
              "382152   383241  Female  ...                 208         0\n",
              "382153   401019  Female  ...                 104         0\n",
              "\n",
              "[382154 rows x 12 columns]"
            ]
          },
          "metadata": {},
          "execution_count": 17
        }
      ]
    },
    {
      "cell_type": "code",
      "metadata": {
        "colab": {
          "base_uri": "https://localhost:8080/"
        },
        "id": "Jl2Kw2wIno5i",
        "outputId": "055bfc0e-9674-499b-84d9-335cf8f0004d"
      },
      "source": [
        "# Check on categorical variables\n",
        "df_train.info()"
      ],
      "execution_count": 18,
      "outputs": [
        {
          "output_type": "stream",
          "name": "stdout",
          "text": [
            "<class 'pandas.core.frame.DataFrame'>\n",
            "RangeIndex: 382154 entries, 0 to 382153\n",
            "Data columns (total 12 columns):\n",
            " #   Column                Non-Null Count   Dtype  \n",
            "---  ------                --------------   -----  \n",
            " 0   cust_id               382154 non-null  int64  \n",
            " 1   gender                382154 non-null  object \n",
            " 2   age                   382154 non-null  int64  \n",
            " 3   driving_license       382154 non-null  int64  \n",
            " 4   region_code           382154 non-null  float64\n",
            " 5   previously_insured    382154 non-null  int64  \n",
            " 6   vehicle_age           382154 non-null  object \n",
            " 7   vehicle_damage        382154 non-null  object \n",
            " 8   annual_premium        382154 non-null  float64\n",
            " 9   policy_sales_channel  382154 non-null  float64\n",
            " 10  days_since_insured    382154 non-null  int64  \n",
            " 11  response              382154 non-null  int64  \n",
            "dtypes: float64(3), int64(6), object(3)\n",
            "memory usage: 35.0+ MB\n"
          ]
        }
      ]
    },
    {
      "cell_type": "code",
      "metadata": {
        "colab": {
          "base_uri": "https://localhost:8080/"
        },
        "id": "D4AiQkmCqb33",
        "outputId": "1e5800e2-ffaa-4b04-a655-71a5cc68d510"
      },
      "source": [
        "# Check on missing values\n",
        "df_train.isna().sum()"
      ],
      "execution_count": 22,
      "outputs": [
        {
          "output_type": "execute_result",
          "data": {
            "text/plain": [
              "cust_id                 0\n",
              "gender                  0\n",
              "age                     0\n",
              "driving_license         0\n",
              "region_code             0\n",
              "previously_insured      0\n",
              "vehicle_age             0\n",
              "vehicle_damage          0\n",
              "annual_premium          0\n",
              "policy_sales_channel    0\n",
              "days_since_insured      0\n",
              "response                0\n",
              "dtype: int64"
            ]
          },
          "metadata": {},
          "execution_count": 22
        }
      ]
    },
    {
      "cell_type": "code",
      "metadata": {
        "id": "8SENT6c1n5Ea"
      },
      "source": [
        "# Categorize 'vehicle_age' and 'vehicle_"
      ],
      "execution_count": null,
      "outputs": []
    },
    {
      "cell_type": "code",
      "metadata": {
        "id": "hAudap9ltxhH"
      },
      "source": [
        "# Setup random seed\n",
        "np.random.seed(42)\n",
        "\n",
        "# To create X (predictors)\n",
        "X_train = df_train.drop('response',axis = 1)\n",
        "\n",
        "# To create y (response)\n",
        "y_train = df_train['response']"
      ],
      "execution_count": 23,
      "outputs": []
    },
    {
      "cell_type": "code",
      "metadata": {
        "colab": {
          "base_uri": "https://localhost:8080/"
        },
        "id": "J84XSrwunmeZ",
        "outputId": "2e556cf1-801c-48fd-b55f-bd080a52f527"
      },
      "source": [
        "# To convert categorical variables to numerical variables\n",
        "from sklearn.preprocessing import OneHotEncoder\n",
        "from sklearn.compose import ColumnTransformer\n",
        "\n",
        "categorical_var = ['gender', 'vehicle_age', 'vehicle_damage']\n",
        "one_hot = OneHotEncoder()\n",
        "transformer = ColumnTransformer([('one_hot',\n",
        "                                  one_hot,\n",
        "                                  categorical_var)],\n",
        "                                remainder = 'passthrough')\n",
        "transformed_X_train = transformer.fit_transform(X_train)\n",
        "transformed_X_train"
      ],
      "execution_count": 24,
      "outputs": [
        {
          "output_type": "execute_result",
          "data": {
            "text/plain": [
              "array([[  0. ,   1. ,   0. , ...,  52.6, 152. ,  16. ],\n",
              "       [  0. ,   1. ,   1. , ..., 866.5,  26. , 135. ],\n",
              "       [  1. ,   0. ,   1. , ..., 716.8, 124. , 253. ],\n",
              "       ...,\n",
              "       [  0. ,   1. ,   1. , ..., 808.9,  26. , 187. ],\n",
              "       [  1. ,   0. ,   0. , ..., 507.6, 152. , 208. ],\n",
              "       [  1. ,   0. ,   0. , ..., 607.9, 152. , 104. ]])"
            ]
          },
          "metadata": {},
          "execution_count": 24
        }
      ]
    },
    {
      "cell_type": "code",
      "metadata": {
        "id": "M8Xw2SK1pI4V"
      },
      "source": [
        "# Split the train data into training and test sets (to evaluate on the model accuracy)\n",
        "from sklearn.model_selection import train_test_split\n",
        "X_train, X_split_test, y_train, y_split_test = train_test_split(transformed_X_train,\n",
        "                                                                y_train,\n",
        "                                                                test_size = 0.2)\n",
        "\n",
        "# To predict with random forest classifier\n",
        "from sklearn.ensemble import RandomForestClassifier\n",
        "\n",
        "model = RandomForestClassifier()\n",
        "model.fit(X_train, y_train)\n",
        "model.score(X_split_test, y_split_test)"
      ],
      "execution_count": null,
      "outputs": []
    },
    {
      "cell_type": "code",
      "metadata": {
        "colab": {
          "base_uri": "https://localhost:8080/"
        },
        "id": "BnAbJYpYpVDl",
        "outputId": "ae30e1da-42dc-4120-85d9-2cf4abac9fca"
      },
      "source": [
        "model.score(X_split_test, y_split_test)"
      ],
      "execution_count": 26,
      "outputs": [
        {
          "output_type": "execute_result",
          "data": {
            "text/plain": [
              "0.89293611231045"
            ]
          },
          "metadata": {},
          "execution_count": 26
        }
      ]
    },
    {
      "cell_type": "code",
      "metadata": {
        "colab": {
          "base_uri": "https://localhost:8080/"
        },
        "id": "ZCYRhD5rsFxv",
        "outputId": "f310fcd5-ff5f-4dda-e504-459637b382e4"
      },
      "source": [
        "# Try different numbers of estimators\n",
        "np.random.seed(42)\n",
        "for i in range(10, 100, 10):\n",
        "  print('Trying model with {} estimators'.format(i))\n",
        "  model = RandomForestClassifier(n_estimators = i).fit(X_train, y_train)\n",
        "  print('Model accuracy on test set: {}%'.format(model.score(X_split_test, y_split_test)*100))\n",
        "  print('')"
      ],
      "execution_count": 29,
      "outputs": [
        {
          "output_type": "stream",
          "name": "stdout",
          "text": [
            "Trying model with 10 estimators\n",
            "Model accuracy on test set: 88.98745273514673%\n",
            "\n",
            "Trying model with 20 estimators\n",
            "Model accuracy on test set: 89.12483154740877%\n",
            "\n",
            "Trying model with 30 estimators\n",
            "Model accuracy on test set: 89.09343067603459%\n",
            "\n",
            "Trying model with 40 estimators\n",
            "Model accuracy on test set: 89.22688437937487%\n",
            "\n",
            "Trying model with 50 estimators\n",
            "Model accuracy on test set: 89.27791079535791%\n",
            "\n",
            "Trying model with 60 estimators\n",
            "Model accuracy on test set: 89.29884470960737%\n",
            "\n",
            "Trying model with 70 estimators\n",
            "Model accuracy on test set: 89.31323677565386%\n",
            "\n",
            "Trying model with 80 estimators\n",
            "Model accuracy on test set: 89.32632047205976%\n",
            "\n",
            "Trying model with 90 estimators\n",
            "Model accuracy on test set: 89.35248786487159%\n",
            "\n"
          ]
        }
      ]
    },
    {
      "cell_type": "code",
      "metadata": {
        "colab": {
          "base_uri": "https://localhost:8080/"
        },
        "id": "GjeB2FLCs4HL",
        "outputId": "2777b6a5-a7f4-40e5-a7a4-d60679b6df75"
      },
      "source": [
        "# Using cross validation\n",
        "from sklearn.model_selection import cross_val_score\n",
        "cross_val_score(model, X_train, y_train, cv=5)"
      ],
      "execution_count": 30,
      "outputs": [
        {
          "output_type": "execute_result",
          "data": {
            "text/plain": [
              "array([0.89475836, 0.89292665, 0.89484013, 0.89367722, 0.89449496])"
            ]
          },
          "metadata": {},
          "execution_count": 30
        }
      ]
    },
    {
      "cell_type": "code",
      "metadata": {
        "colab": {
          "base_uri": "https://localhost:8080/",
          "height": 419
        },
        "id": "NAzCkIhqt0Pj",
        "outputId": "26f1c7fe-9dd0-4dfe-80a3-831aea503812"
      },
      "source": [
        "# Work on the given test set\n",
        "df_test"
      ],
      "execution_count": 42,
      "outputs": [
        {
          "output_type": "execute_result",
          "data": {
            "text/html": [
              "<div>\n",
              "<style scoped>\n",
              "    .dataframe tbody tr th:only-of-type {\n",
              "        vertical-align: middle;\n",
              "    }\n",
              "\n",
              "    .dataframe tbody tr th {\n",
              "        vertical-align: top;\n",
              "    }\n",
              "\n",
              "    .dataframe thead th {\n",
              "        text-align: right;\n",
              "    }\n",
              "</style>\n",
              "<table border=\"1\" class=\"dataframe\">\n",
              "  <thead>\n",
              "    <tr style=\"text-align: right;\">\n",
              "      <th></th>\n",
              "      <th>cust_id</th>\n",
              "      <th>gender</th>\n",
              "      <th>age</th>\n",
              "      <th>driving_license</th>\n",
              "      <th>region_code</th>\n",
              "      <th>previously_insured</th>\n",
              "      <th>vehicle_age</th>\n",
              "      <th>vehicle_damage</th>\n",
              "      <th>annual_premium</th>\n",
              "      <th>policy_sales_channel</th>\n",
              "      <th>days_since_insured</th>\n",
              "    </tr>\n",
              "  </thead>\n",
              "  <tbody>\n",
              "    <tr>\n",
              "      <th>0</th>\n",
              "      <td>57782</td>\n",
              "      <td>Female</td>\n",
              "      <td>34</td>\n",
              "      <td>1</td>\n",
              "      <td>39.0</td>\n",
              "      <td>1</td>\n",
              "      <td>1-2 Year</td>\n",
              "      <td>No</td>\n",
              "      <td>764.9</td>\n",
              "      <td>124.0</td>\n",
              "      <td>146</td>\n",
              "    </tr>\n",
              "    <tr>\n",
              "      <th>1</th>\n",
              "      <td>286811</td>\n",
              "      <td>Female</td>\n",
              "      <td>55</td>\n",
              "      <td>1</td>\n",
              "      <td>28.0</td>\n",
              "      <td>0</td>\n",
              "      <td>&gt; 2 Years</td>\n",
              "      <td>Yes</td>\n",
              "      <td>751.5</td>\n",
              "      <td>122.0</td>\n",
              "      <td>109</td>\n",
              "    </tr>\n",
              "    <tr>\n",
              "      <th>2</th>\n",
              "      <td>117823</td>\n",
              "      <td>Male</td>\n",
              "      <td>39</td>\n",
              "      <td>1</td>\n",
              "      <td>28.0</td>\n",
              "      <td>1</td>\n",
              "      <td>1-2 Year</td>\n",
              "      <td>No</td>\n",
              "      <td>491.6</td>\n",
              "      <td>26.0</td>\n",
              "      <td>63</td>\n",
              "    </tr>\n",
              "    <tr>\n",
              "      <th>3</th>\n",
              "      <td>213992</td>\n",
              "      <td>Male</td>\n",
              "      <td>28</td>\n",
              "      <td>1</td>\n",
              "      <td>50.0</td>\n",
              "      <td>1</td>\n",
              "      <td>1-2 Year</td>\n",
              "      <td>No</td>\n",
              "      <td>810.1</td>\n",
              "      <td>8.0</td>\n",
              "      <td>129</td>\n",
              "    </tr>\n",
              "    <tr>\n",
              "      <th>4</th>\n",
              "      <td>324756</td>\n",
              "      <td>Female</td>\n",
              "      <td>24</td>\n",
              "      <td>1</td>\n",
              "      <td>10.0</td>\n",
              "      <td>0</td>\n",
              "      <td>&lt; 1 Year</td>\n",
              "      <td>Yes</td>\n",
              "      <td>735.7</td>\n",
              "      <td>152.0</td>\n",
              "      <td>201</td>\n",
              "    </tr>\n",
              "    <tr>\n",
              "      <th>...</th>\n",
              "      <td>...</td>\n",
              "      <td>...</td>\n",
              "      <td>...</td>\n",
              "      <td>...</td>\n",
              "      <td>...</td>\n",
              "      <td>...</td>\n",
              "      <td>...</td>\n",
              "      <td>...</td>\n",
              "      <td>...</td>\n",
              "      <td>...</td>\n",
              "      <td>...</td>\n",
              "    </tr>\n",
              "    <tr>\n",
              "      <th>78268</th>\n",
              "      <td>847</td>\n",
              "      <td>Male</td>\n",
              "      <td>43</td>\n",
              "      <td>1</td>\n",
              "      <td>39.0</td>\n",
              "      <td>0</td>\n",
              "      <td>1-2 Year</td>\n",
              "      <td>Yes</td>\n",
              "      <td>52.6</td>\n",
              "      <td>124.0</td>\n",
              "      <td>26</td>\n",
              "    </tr>\n",
              "    <tr>\n",
              "      <th>78269</th>\n",
              "      <td>417524</td>\n",
              "      <td>Female</td>\n",
              "      <td>21</td>\n",
              "      <td>1</td>\n",
              "      <td>12.0</td>\n",
              "      <td>1</td>\n",
              "      <td>&lt; 1 Year</td>\n",
              "      <td>No</td>\n",
              "      <td>658.7</td>\n",
              "      <td>152.0</td>\n",
              "      <td>185</td>\n",
              "    </tr>\n",
              "    <tr>\n",
              "      <th>78270</th>\n",
              "      <td>188087</td>\n",
              "      <td>Male</td>\n",
              "      <td>48</td>\n",
              "      <td>1</td>\n",
              "      <td>29.0</td>\n",
              "      <td>1</td>\n",
              "      <td>1-2 Year</td>\n",
              "      <td>No</td>\n",
              "      <td>704.9</td>\n",
              "      <td>124.0</td>\n",
              "      <td>101</td>\n",
              "    </tr>\n",
              "    <tr>\n",
              "      <th>78271</th>\n",
              "      <td>215680</td>\n",
              "      <td>Male</td>\n",
              "      <td>64</td>\n",
              "      <td>1</td>\n",
              "      <td>5.0</td>\n",
              "      <td>1</td>\n",
              "      <td>1-2 Year</td>\n",
              "      <td>No</td>\n",
              "      <td>514.1</td>\n",
              "      <td>26.0</td>\n",
              "      <td>86</td>\n",
              "    </tr>\n",
              "    <tr>\n",
              "      <th>78272</th>\n",
              "      <td>138006</td>\n",
              "      <td>Female</td>\n",
              "      <td>25</td>\n",
              "      <td>1</td>\n",
              "      <td>41.0</td>\n",
              "      <td>1</td>\n",
              "      <td>&lt; 1 Year</td>\n",
              "      <td>No</td>\n",
              "      <td>555.0</td>\n",
              "      <td>152.0</td>\n",
              "      <td>235</td>\n",
              "    </tr>\n",
              "  </tbody>\n",
              "</table>\n",
              "<p>78273 rows × 11 columns</p>\n",
              "</div>"
            ],
            "text/plain": [
              "       cust_id  gender  ...  policy_sales_channel  days_since_insured\n",
              "0        57782  Female  ...                 124.0                 146\n",
              "1       286811  Female  ...                 122.0                 109\n",
              "2       117823    Male  ...                  26.0                  63\n",
              "3       213992    Male  ...                   8.0                 129\n",
              "4       324756  Female  ...                 152.0                 201\n",
              "...        ...     ...  ...                   ...                 ...\n",
              "78268      847    Male  ...                 124.0                  26\n",
              "78269   417524  Female  ...                 152.0                 185\n",
              "78270   188087    Male  ...                 124.0                 101\n",
              "78271   215680    Male  ...                  26.0                  86\n",
              "78272   138006  Female  ...                 152.0                 235\n",
              "\n",
              "[78273 rows x 11 columns]"
            ]
          },
          "metadata": {},
          "execution_count": 42
        }
      ]
    },
    {
      "cell_type": "code",
      "metadata": {
        "colab": {
          "base_uri": "https://localhost:8080/"
        },
        "id": "xIvLoXLewSRU",
        "outputId": "f8675d3d-f768-478b-ea24-e07754aed797"
      },
      "source": [
        "# Check on categorical variables and missing values\n",
        "df_test.info()"
      ],
      "execution_count": 37,
      "outputs": [
        {
          "output_type": "stream",
          "name": "stdout",
          "text": [
            "<class 'pandas.core.frame.DataFrame'>\n",
            "RangeIndex: 78273 entries, 0 to 78272\n",
            "Data columns (total 11 columns):\n",
            " #   Column                Non-Null Count  Dtype  \n",
            "---  ------                --------------  -----  \n",
            " 0   cust_id               78273 non-null  int64  \n",
            " 1   gender                78273 non-null  object \n",
            " 2   age                   78273 non-null  int64  \n",
            " 3   driving_license       78273 non-null  int64  \n",
            " 4   region_code           78273 non-null  float64\n",
            " 5   previously_insured    78273 non-null  int64  \n",
            " 6   vehicle_age           78273 non-null  object \n",
            " 7   vehicle_damage        78273 non-null  object \n",
            " 8   annual_premium        78273 non-null  float64\n",
            " 9   policy_sales_channel  78273 non-null  float64\n",
            " 10  days_since_insured    78273 non-null  int64  \n",
            "dtypes: float64(3), int64(5), object(3)\n",
            "memory usage: 6.6+ MB\n"
          ]
        }
      ]
    },
    {
      "cell_type": "code",
      "metadata": {
        "id": "IhFzyrcdvizw"
      },
      "source": [
        "# Assign X to test set\n",
        "X_test = df_test"
      ],
      "execution_count": 33,
      "outputs": []
    },
    {
      "cell_type": "code",
      "metadata": {
        "colab": {
          "base_uri": "https://localhost:8080/"
        },
        "id": "oMOqan9Xutp0",
        "outputId": "7c182385-3064-4f6f-d528-5232cccbe059"
      },
      "source": [
        "# To convert categorical variables to numerical variables\n",
        "from sklearn.preprocessing import OneHotEncoder\n",
        "from sklearn.compose import ColumnTransformer\n",
        "\n",
        "categorical_var = ['gender', 'vehicle_age', 'vehicle_damage']\n",
        "one_hot = OneHotEncoder()\n",
        "transformer = ColumnTransformer([('one_hot',\n",
        "                                  one_hot,\n",
        "                                  categorical_var)],\n",
        "                                remainder = 'passthrough')\n",
        "transformed_X_test = transformer.fit_transform(X_test)\n",
        "transformed_X_test"
      ],
      "execution_count": 43,
      "outputs": [
        {
          "output_type": "execute_result",
          "data": {
            "text/plain": [
              "array([[  1. ,   0. ,   1. , ..., 764.9, 124. , 146. ],\n",
              "       [  1. ,   0. ,   0. , ..., 751.5, 122. , 109. ],\n",
              "       [  0. ,   1. ,   1. , ..., 491.6,  26. ,  63. ],\n",
              "       ...,\n",
              "       [  0. ,   1. ,   1. , ..., 704.9, 124. , 101. ],\n",
              "       [  0. ,   1. ,   1. , ..., 514.1,  26. ,  86. ],\n",
              "       [  1. ,   0. ,   0. , ..., 555. , 152. , 235. ]])"
            ]
          },
          "metadata": {},
          "execution_count": 43
        }
      ]
    },
    {
      "cell_type": "code",
      "metadata": {
        "colab": {
          "base_uri": "https://localhost:8080/"
        },
        "id": "BzHGhcKqvxtr",
        "outputId": "287d0fe4-691f-4925-baee-da88127af18b"
      },
      "source": [
        "# Predict using previous trained model\n",
        "np.random.seed(42)\n",
        "from sklearn.ensemble import RandomForestClassifier\n",
        "\n",
        "clf = RandomForestClassifier()\n",
        "clf.fit(X_train, y_train)\n",
        "clf.predict(transformed_X_test)"
      ],
      "execution_count": 57,
      "outputs": [
        {
          "output_type": "execute_result",
          "data": {
            "text/plain": [
              "array([0, 0, 0, ..., 0, 0, 0])"
            ]
          },
          "metadata": {},
          "execution_count": 57
        }
      ]
    },
    {
      "cell_type": "code",
      "metadata": {
        "id": "q47JeSL6wGvl"
      },
      "source": [
        "propensity = clf.predict_proba(transformed_X_test)"
      ],
      "execution_count": 58,
      "outputs": []
    },
    {
      "cell_type": "code",
      "metadata": {
        "id": "vWljaZ9h01Hk"
      },
      "source": [
        "propensity = propensity[:,1]"
      ],
      "execution_count": 59,
      "outputs": []
    },
    {
      "cell_type": "code",
      "metadata": {
        "id": "3_CZjS0tyo-d"
      },
      "source": [
        "df_test['propensity'] = propensity"
      ],
      "execution_count": 60,
      "outputs": []
    },
    {
      "cell_type": "code",
      "metadata": {
        "id": "Ia6_sUDs0r2d"
      },
      "source": [
        "output = df_test[['cust_id','propensity']]"
      ],
      "execution_count": 63,
      "outputs": []
    },
    {
      "cell_type": "code",
      "metadata": {
        "id": "u0sFesqO2d-1"
      },
      "source": [
        "output.to_csv('KJY_submission', index = False)"
      ],
      "execution_count": null,
      "outputs": []
    },
    {
      "cell_type": "markdown",
      "metadata": {
        "id": "Rq912F3L34Ig"
      },
      "source": [
        "# Data visualization on train set"
      ]
    },
    {
      "cell_type": "code",
      "metadata": {
        "id": "i2yhRXdq384e"
      },
      "source": [
        "import seaborn as sns\n",
        "import matplotlib.pyplot as plt"
      ],
      "execution_count": 65,
      "outputs": []
    },
    {
      "cell_type": "code",
      "metadata": {
        "colab": {
          "base_uri": "https://localhost:8080/"
        },
        "id": "gG2L0OtG_hLJ",
        "outputId": "f1ed6921-9d3c-4e50-bdcd-3a8d6e2e5da9"
      },
      "source": [
        "df_train['vehicle_damage'].unique()"
      ],
      "execution_count": 68,
      "outputs": [
        {
          "output_type": "execute_result",
          "data": {
            "text/plain": [
              "array(['No', 'Yes'], dtype=object)"
            ]
          },
          "metadata": {},
          "execution_count": 68
        }
      ]
    },
    {
      "cell_type": "code",
      "metadata": {
        "id": "4w2Grp5r_CSp"
      },
      "source": [
        "# Need to change categorical variables to numerical variables\n",
        "df_train.loc[df_train['gender'] == 'Male', 'gender'] = 1\n",
        "df_train.loc[df_train['gender'] == 'Female', 'gender'] = 0\n",
        "df_train.loc[df_train['vehicle_age'] == '< 1 Year', 'vehicle_age'] = 0\n",
        "df_train.loc[df_train['vehicle_age'] == '1-2 Year', 'vehicle_age'] = 1\n",
        "df_train.loc[df_train['vehicle_age'] == '> 2 Years', 'vehicle_age'] = 2\n",
        "df_train.loc[df_train['vehicle_damage'] == 'Yes', 'vehicle_damage'] = 1\n",
        "df_train.loc[df_train['vehicle_damage'] == 'No', 'vehicle_damage'] = 0"
      ],
      "execution_count": 69,
      "outputs": []
    },
    {
      "cell_type": "code",
      "metadata": {
        "id": "8_zdTbH-A8uE"
      },
      "source": [
        "df_train = df_train.apply(pd.to_numeric, errors = 'coerce')"
      ],
      "execution_count": 77,
      "outputs": []
    },
    {
      "cell_type": "code",
      "metadata": {
        "colab": {
          "base_uri": "https://localhost:8080/"
        },
        "id": "OiXHzDADBgcG",
        "outputId": "93292c98-3e6e-497b-c458-332a4e9fb75a"
      },
      "source": [
        "df_train.info()"
      ],
      "execution_count": 78,
      "outputs": [
        {
          "output_type": "stream",
          "name": "stdout",
          "text": [
            "<class 'pandas.core.frame.DataFrame'>\n",
            "RangeIndex: 382154 entries, 0 to 382153\n",
            "Data columns (total 12 columns):\n",
            " #   Column                Non-Null Count   Dtype  \n",
            "---  ------                --------------   -----  \n",
            " 0   cust_id               382154 non-null  int64  \n",
            " 1   gender                382154 non-null  int64  \n",
            " 2   age                   382154 non-null  int64  \n",
            " 3   driving_license       382154 non-null  int64  \n",
            " 4   region_code           382154 non-null  float64\n",
            " 5   previously_insured    382154 non-null  int64  \n",
            " 6   vehicle_age           382154 non-null  int64  \n",
            " 7   vehicle_damage        382154 non-null  int64  \n",
            " 8   annual_premium        382154 non-null  float64\n",
            " 9   policy_sales_channel  382154 non-null  float64\n",
            " 10  days_since_insured    382154 non-null  int64  \n",
            " 11  response              382154 non-null  int64  \n",
            "dtypes: float64(3), int64(9)\n",
            "memory usage: 35.0 MB\n"
          ]
        }
      ]
    },
    {
      "cell_type": "code",
      "metadata": {
        "colab": {
          "base_uri": "https://localhost:8080/",
          "height": 516
        },
        "id": "mGDlniT--X2k",
        "outputId": "67f606f6-6f3b-49be-dcdc-b3b1c7bf6523"
      },
      "source": [
        "# Correlation matrix\n",
        "plt.figure(figsize = (16,6))\n",
        "\n",
        "mask = np.triu(np.ones_like(df_train.corr(), dtype = np.bool))\n",
        "\n",
        "heatmap = sns.heatmap(df_train.corr(), mask = mask, vmin = -1, vmax = 1, annot = True, cmap = 'BrBG')\n",
        "\n",
        "heatmap.set_title('Correlation Heatmap', fontdict = {'fontsize':18}, pad = 16)"
      ],
      "execution_count": 79,
      "outputs": [
        {
          "output_type": "execute_result",
          "data": {
            "text/plain": [
              "Text(0.5, 1.0, 'Correlation Heatmap')"
            ]
          },
          "metadata": {},
          "execution_count": 79
        },
        {
          "output_type": "display_data",
          "data": {
            "image/png": "[encoded data removed]",
            "text/plain": [
              "<Figure size 1152x432 with 2 Axes>"
            ]
          },
          "metadata": {
            "needs_background": "light"
          }
        }
      ]
    },
    {
      "cell_type": "code",
      "metadata": {
        "colab": {
          "base_uri": "https://localhost:8080/",
          "height": 484
        },
        "id": "-sg_y-5v_2XS",
        "outputId": "92a42b26-f614-4700-90fc-68c3c29cbd8d"
      },
      "source": [
        "# Boxplot for train set\n",
        "df_train.plot(kind = 'box', subplots = True, layout = (4,3), sharex = False, sharey = False, figsize = (16,8))\n",
        "plt.show()"
      ],
      "execution_count": 80,
      "outputs": [
        {
          "output_type": "display_data",
          "data": {
            "image/png": "[encoded data removed]",
            "text/plain": [
              "<Figure size 1152x576 with 12 Axes>"
            ]
          },
          "metadata": {
            "needs_background": "light"
          }
        }
      ]
    },
    {
      "cell_type": "code",
      "metadata": {
        "colab": {
          "base_uri": "https://localhost:8080/",
          "height": 376
        },
        "id": "9P_4UqakAcgm",
        "outputId": "60d7112f-f99e-40c1-ae2d-2c0383e71c76"
      },
      "source": [
        "# Boxplot for response = 1\n",
        "df_train_renew = df_train[df_train['response'] == 1]\n",
        "df_train_renew.plot(kind = 'box', subplots = True, layout = (4,3), sharex = False, sharey = False, figsize = (16,6))\n",
        "plt.show()"
      ],
      "execution_count": 84,
      "outputs": [
        {
          "output_type": "display_data",
          "data": {
            "image/png": "[encoded data removed]",
            "text/plain": [
              "<Figure size 1152x432 with 12 Axes>"
            ]
          },
          "metadata": {
            "needs_background": "light"
          }
        }
      ]
    },
    {
      "cell_type": "code",
      "metadata": {
        "id": "ROn8o79vB4C4"
      },
      "source": [
        ""
      ],
      "execution_count": null,
      "outputs": []
    }
  ]
}